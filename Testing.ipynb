{
 "cells": [
  {
   "cell_type": "code",
   "execution_count": null,
   "id": "1f8c5bce",
   "metadata": {},
   "outputs": [],
   "source": [
    "import matplotlib.pyplot as plt\n",
    "import tensorflow as tf\n",
    "from tensorflow import keras\n",
    "import numpy as np\n",
    "import os\n",
    "\n",
    "# Define the image size (same as used during training)\n",
    "img_height, img_width = 128, 128\n",
    "\n",
    "# Load the trained model\n",
    "model = tf.keras.models.load_model('emotion_classification_model.h5')\n",
    "\n",
    "# Function to load and preprocess an image\n",
    "def load_and_preprocess_image(image_path):\n",
    "    img = keras.utils.load_img(image_path, target_size=(img_height, img_width))\n",
    "    img_array = keras.utils.img_to_array(img)\n",
    "    img_array = tf.expand_dims(img_array, 0)  # Create batch axis\n",
    "    return img_array\n",
    "\n",
    "# Path to a sample image from your dataset\n",
    "image_path =r\"C:\\Users\\Shree\\Downloads\\IITB\\frames_validation\\Engagement\\5912920242_frame30.jpg\"  # Replace with the actual path to the image\n",
    "\n",
    "# Load and display the image\n",
    "img_array = load_and_preprocess_image(image_path)\n",
    "img = keras.utils.load_img(image_path, target_size=(img_height, img_width))\n",
    "plt.imshow(img)\n",
    "plt.show()\n",
    "\n",
    "# Make predictions\n",
    "predictions = model.predict(img_array)\n",
    "predicted_class = np.argmax(predictions, axis=1)\n",
    "\n",
    "# Get class indices\n",
    "class_names = ['Boredom', 'Confusion', 'Engagement', 'Frustration']\n",
    "\n",
    "# Print the predicted class and probability for each class\n",
    "print(f\"Predicted Emotion: {class_names[predicted_class[0]]} ({predictions[0][predicted_class[0]] * 100:.2f}%)\")\n",
    "print(\"Probabilities for each emotion:\")\n",
    "for i, prob in enumerate(predictions[0]):\n",
    "    print(f\"{class_names[i]}: {prob * 100:.2f}%\")"
   ]
  }
 ],
 "metadata": {
  "kernelspec": {
   "display_name": "Python 3 (ipykernel)",
   "language": "python",
   "name": "python3"
  },
  "language_info": {
   "codemirror_mode": {
    "name": "ipython",
    "version": 3
   },
   "file_extension": ".py",
   "mimetype": "text/x-python",
   "name": "python",
   "nbconvert_exporter": "python",
   "pygments_lexer": "ipython3",
   "version": "3.11.5"
  }
 },
 "nbformat": 4,
 "nbformat_minor": 5
}
